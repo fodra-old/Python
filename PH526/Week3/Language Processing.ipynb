{
 "cells": [
  {
   "cell_type": "code",
   "execution_count": 4,
   "metadata": {},
   "outputs": [],
   "source": [
    "def count_words(text):\n",
    "    \"\"\"\n",
    "    Contar a quantidade de vezes que uma palavra ocorre. Retornando\n",
    "    um dicionário que as palavras são a chave e os valores são a quantidade\n",
    "    de repetições. Skip ponctuation\n",
    "    \"\"\"\n",
    "    text = text.lower()\n",
    "    skips = [\".\", \",\", \";\", \":\", \"'\", '\"']\n",
    "    for ch in skips:\n",
    "        text = text.replace(ch, \"\")\n",
    "    word_counts = {}\n",
    "    for word in text.split(\" \"):\n",
    "        if word in word_counts:\n",
    "            word_counts[word] += 1\n",
    "        else:\n",
    "            word_counts[word] = 1\n",
    "    return word_counts\n",
    "    "
   ]
  },
  {
   "cell_type": "code",
   "execution_count": 6,
   "metadata": {},
   "outputs": [],
   "source": [
    "from collections import Counter\n",
    "def count_words_fast(text):\n",
    "    \"\"\"\n",
    "    Contar a quantidade de vezes que uma palavra ocorre. Retornando\n",
    "    um dicionário que as palavras são a chave e os valores são a quantidade\n",
    "    de repetições. Skip ponctuation\n",
    "    \"\"\"\n",
    "    text = text.lower()\n",
    "    skips = [\".\", \",\", \";\", \":\", \"'\", '\"']\n",
    "    for ch in skips:\n",
    "        text = text.replace(ch, \"\")\n",
    "    word_counts =  Counter(text.split(\" \"))\n",
    "    return word_counts"
   ]
  },
  {
   "cell_type": "code",
   "execution_count": 8,
   "metadata": {},
   "outputs": [
    {
     "data": {
      "text/plain": [
       "6"
      ]
     },
     "execution_count": 8,
     "metadata": {},
     "output_type": "execute_result"
    }
   ],
   "source": [
    "len(count_words(\"This comprehension check is to check for comprehension.\"))"
   ]
  },
  {
   "cell_type": "code",
   "execution_count": 9,
   "metadata": {},
   "outputs": [
    {
     "data": {
      "text/plain": [
       "False"
      ]
     },
     "execution_count": 9,
     "metadata": {},
     "output_type": "execute_result"
    }
   ],
   "source": [
    "text = \"This comprehension check is to check for comprehension.\"\n",
    "count_words(text) is count_words_fast(text)"
   ]
  },
  {
   "cell_type": "code",
   "execution_count": 12,
   "metadata": {},
   "outputs": [],
   "source": [
    "def read_book(title_path):\n",
    "    \"\"\"\n",
    "    Lê livro e retorna  o conteudo como texto\n",
    "    \"\"\"\n",
    "    \n",
    "    with open(title_path, encoding=\"utf8\") as current_file:\n",
    "        text = current_file.read()\n",
    "        text = text.replace(\"\\n\", \"\").replace(\"\\r\", \"\")\n",
    "    return text"
   ]
  },
  {
   "cell_type": "code",
   "execution_count": 42,
   "metadata": {},
   "outputs": [
    {
     "data": {
      "text/plain": [
       "169275"
      ]
     },
     "execution_count": 42,
     "metadata": {},
     "output_type": "execute_result"
    }
   ],
   "source": [
    "text = read_book(\"./Books/English/shakespeare/Romeo and Juliet.txt\")\n",
    "\n",
    "len(text)"
   ]
  },
  {
   "cell_type": "code",
   "execution_count": 16,
   "metadata": {},
   "outputs": [
    {
     "data": {
      "text/plain": [
       "42757"
      ]
     },
     "execution_count": 16,
     "metadata": {},
     "output_type": "execute_result"
    }
   ],
   "source": [
    "ind = text.find(\"What's in a name?\")\n",
    "ind"
   ]
  },
  {
   "cell_type": "code",
   "execution_count": 18,
   "metadata": {},
   "outputs": [
    {
     "data": {
      "text/plain": [
       "\"What's in a name? That which we call a rose    By any other name would smell as sweet.    So Romeo would, were he not Romeo call'd,    Retain that dear perfection which he owes    Without that title. Romeo, doff thy name;    And for that name, which is no part of thee,    Take all myself.  Rom. I take thee at thy word.    Call me but love, and I'll be new baptiz'd;    Henceforth I never will be Romeo.  Jul. What man art thou that, thus bescreen'd in night,    So stumblest on my counsel?  Rom. By a name    I know not how to tell thee who I am.    My name, dear saint, is hateful to myself,    Because it is an enemy to thee.    Had I it written, I would tear the word.  Jul. My ears have yet not drunk a hundred words    Of that tongue's utterance, yet I know the sound.    Art thou not Romeo, and a Montague?  Rom. Neither, fair saint, if either thee dislike.  Jul. How cam'st thou hither, tell me, and wherefore?    The orchard walls are high and hard to climb,    And the place death, conside\""
      ]
     },
     "execution_count": 18,
     "metadata": {},
     "output_type": "execute_result"
    }
   ],
   "source": [
    "sample_text = text[ind : ind + 1000]\n",
    "sample_text"
   ]
  },
  {
   "cell_type": "code",
   "execution_count": 22,
   "metadata": {},
   "outputs": [],
   "source": [
    "def word_stats(word_counts):\n",
    "    \"\"\"\n",
    "    Retorna a quantidade e frequencia das palavras\n",
    "    \"\"\"\n",
    "    num_unique = len(word_counts)\n",
    "    counts = word_counts.values()\n",
    "    return (num_unique, counts)"
   ]
  },
  {
   "cell_type": "code",
   "execution_count": 43,
   "metadata": {},
   "outputs": [
    {
     "data": {
      "text/plain": [
       "5118"
      ]
     },
     "execution_count": 43,
     "metadata": {},
     "output_type": "execute_result"
    }
   ],
   "source": [
    "word_counts = count_words(text)\n",
    "(num_unique, counts) = word_stats(word_counts)\n",
    "num_unique"
   ]
  },
  {
   "cell_type": "code",
   "execution_count": 44,
   "metadata": {},
   "outputs": [
    {
     "data": {
      "text/plain": [
       "40776"
      ]
     },
     "execution_count": 44,
     "metadata": {},
     "output_type": "execute_result"
    }
   ],
   "source": [
    "sum(counts)"
   ]
  },
  {
   "cell_type": "code",
   "execution_count": 39,
   "metadata": {},
   "outputs": [],
   "source": [
    "text_g = read_book(\"./Books/German/shakespeare/Romeo und Julia.txt\")"
   ]
  },
  {
   "cell_type": "code",
   "execution_count": 40,
   "metadata": {},
   "outputs": [
    {
     "data": {
      "text/plain": [
       "7527"
      ]
     },
     "execution_count": 40,
     "metadata": {},
     "output_type": "execute_result"
    }
   ],
   "source": [
    "word_counts = count_words(text_g)\n",
    "(num_unique, counts) = word_stats(word_counts)\n",
    "num_unique"
   ]
  },
  {
   "cell_type": "code",
   "execution_count": 41,
   "metadata": {},
   "outputs": [
    {
     "data": {
      "text/plain": [
       "20311"
      ]
     },
     "execution_count": 41,
     "metadata": {},
     "output_type": "execute_result"
    }
   ],
   "source": [
    "sum(counts)"
   ]
  },
  {
   "cell_type": "code",
   "execution_count": 59,
   "metadata": {},
   "outputs": [
    {
     "data": {
      "text/html": [
       "<div>\n",
       "<style scoped>\n",
       "    .dataframe tbody tr th:only-of-type {\n",
       "        vertical-align: middle;\n",
       "    }\n",
       "\n",
       "    .dataframe tbody tr th {\n",
       "        vertical-align: top;\n",
       "    }\n",
       "\n",
       "    .dataframe thead th {\n",
       "        text-align: right;\n",
       "    }\n",
       "</style>\n",
       "<table border=\"1\" class=\"dataframe\">\n",
       "  <thead>\n",
       "    <tr style=\"text-align: right;\">\n",
       "      <th></th>\n",
       "      <th>language</th>\n",
       "      <th>author</th>\n",
       "      <th>title</th>\n",
       "      <th>length</th>\n",
       "      <th>unique</th>\n",
       "    </tr>\n",
       "  </thead>\n",
       "  <tbody>\n",
       "    <tr>\n",
       "      <th>1</th>\n",
       "      <td>English</td>\n",
       "      <td>Shakespeare</td>\n",
       "      <td>A Midsummer Night's Dream</td>\n",
       "      <td>16103</td>\n",
       "      <td>4345</td>\n",
       "    </tr>\n",
       "    <tr>\n",
       "      <th>2</th>\n",
       "      <td>English</td>\n",
       "      <td>Shakespeare</td>\n",
       "      <td>Hamlet</td>\n",
       "      <td>28551</td>\n",
       "      <td>6776</td>\n",
       "    </tr>\n",
       "    <tr>\n",
       "      <th>3</th>\n",
       "      <td>English</td>\n",
       "      <td>Shakespeare</td>\n",
       "      <td>Macbeth</td>\n",
       "      <td>16874</td>\n",
       "      <td>4780</td>\n",
       "    </tr>\n",
       "    <tr>\n",
       "      <th>4</th>\n",
       "      <td>English</td>\n",
       "      <td>Shakespeare</td>\n",
       "      <td>Othello</td>\n",
       "      <td>26590</td>\n",
       "      <td>5898</td>\n",
       "    </tr>\n",
       "    <tr>\n",
       "      <th>5</th>\n",
       "      <td>English</td>\n",
       "      <td>Shakespeare</td>\n",
       "      <td>Richard III</td>\n",
       "      <td>48315</td>\n",
       "      <td>5449</td>\n",
       "    </tr>\n",
       "    <tr>\n",
       "      <th>...</th>\n",
       "      <td>...</td>\n",
       "      <td>...</td>\n",
       "      <td>...</td>\n",
       "      <td>...</td>\n",
       "      <td>...</td>\n",
       "    </tr>\n",
       "    <tr>\n",
       "      <th>98</th>\n",
       "      <td>Portuguese</td>\n",
       "      <td>Queir┬ós</td>\n",
       "      <td>O crime do padre Amaro</td>\n",
       "      <td>128630</td>\n",
       "      <td>29300</td>\n",
       "    </tr>\n",
       "    <tr>\n",
       "      <th>99</th>\n",
       "      <td>Portuguese</td>\n",
       "      <td>Queir┬ós</td>\n",
       "      <td>O Mandarim</td>\n",
       "      <td>21440</td>\n",
       "      <td>7836</td>\n",
       "    </tr>\n",
       "    <tr>\n",
       "      <th>100</th>\n",
       "      <td>Portuguese</td>\n",
       "      <td>Queir┬ós</td>\n",
       "      <td>O Primo Bazilio</td>\n",
       "      <td>107303</td>\n",
       "      <td>27644</td>\n",
       "    </tr>\n",
       "    <tr>\n",
       "      <th>101</th>\n",
       "      <td>Portuguese</td>\n",
       "      <td>Queir┬ós</td>\n",
       "      <td>Os Maias</td>\n",
       "      <td>195771</td>\n",
       "      <td>40665</td>\n",
       "    </tr>\n",
       "    <tr>\n",
       "      <th>102</th>\n",
       "      <td>Portuguese</td>\n",
       "      <td>Shakespeare</td>\n",
       "      <td>Hamlet</td>\n",
       "      <td>30567</td>\n",
       "      <td>9700</td>\n",
       "    </tr>\n",
       "  </tbody>\n",
       "</table>\n",
       "<p>102 rows × 5 columns</p>\n",
       "</div>"
      ],
      "text/plain": [
       "       language       author                      title  length unique\n",
       "1       English  Shakespeare  A Midsummer Night's Dream   16103   4345\n",
       "2       English  Shakespeare                     Hamlet   28551   6776\n",
       "3       English  Shakespeare                    Macbeth   16874   4780\n",
       "4       English  Shakespeare                    Othello   26590   5898\n",
       "5       English  Shakespeare                Richard III   48315   5449\n",
       "..          ...          ...                        ...     ...    ...\n",
       "98   Portuguese     Queir┬ós     O crime do padre Amaro  128630  29300\n",
       "99   Portuguese     Queir┬ós                 O Mandarim   21440   7836\n",
       "100  Portuguese     Queir┬ós            O Primo Bazilio  107303  27644\n",
       "101  Portuguese     Queir┬ós                   Os Maias  195771  40665\n",
       "102  Portuguese  Shakespeare                     Hamlet   30567   9700\n",
       "\n",
       "[102 rows x 5 columns]"
      ]
     },
     "execution_count": 59,
     "metadata": {},
     "output_type": "execute_result"
    }
   ],
   "source": [
    "import os\n",
    "import pandas as pd\n",
    "\n",
    "book_dir = \"./Books\"\n",
    "\n",
    "stats = pd.DataFrame(columns=(\"language\", \"author\", \"title\", \"length\",  \"unique\"))\n",
    "title_num = 1\n",
    "for language in os.listdir(book_dir):\n",
    "    for author in os.listdir(book_dir + \"/\" + language):\n",
    "        for title in os.listdir(book_dir + \"/\" + language + \"/\" + author):\n",
    "            inputfile = book_dir + \"/\" + language + \"/\" + author + \"/\" + title\n",
    "            text = read_book(inputfile)\n",
    "            (num_unique, counts) = word_stats(count_words(text))\n",
    "            stats.loc[title_num] = language, author.capitalize(), title.replace(\".txt\",\"\"), sum(counts), num_unique \n",
    "            title_num += 1\n",
    "\n",
    "stats"
   ]
  },
  {
   "cell_type": "code",
   "execution_count": 52,
   "metadata": {},
   "outputs": [
    {
     "data": {
      "text/html": [
       "<div>\n",
       "<style scoped>\n",
       "    .dataframe tbody tr th:only-of-type {\n",
       "        vertical-align: middle;\n",
       "    }\n",
       "\n",
       "    .dataframe tbody tr th {\n",
       "        vertical-align: top;\n",
       "    }\n",
       "\n",
       "    .dataframe thead th {\n",
       "        text-align: right;\n",
       "    }\n",
       "</style>\n",
       "<table border=\"1\" class=\"dataframe\">\n",
       "  <thead>\n",
       "    <tr style=\"text-align: right;\">\n",
       "      <th></th>\n",
       "      <th>language</th>\n",
       "      <th>author</th>\n",
       "      <th>title</th>\n",
       "      <th>length</th>\n",
       "      <th>unique</th>\n",
       "    </tr>\n",
       "  </thead>\n",
       "  <tbody>\n",
       "    <tr>\n",
       "      <th>1</th>\n",
       "      <td>English</td>\n",
       "      <td>shakespeare</td>\n",
       "      <td>A Midsummer Night's Dream.txt</td>\n",
       "      <td>16103</td>\n",
       "      <td>4345</td>\n",
       "    </tr>\n",
       "    <tr>\n",
       "      <th>2</th>\n",
       "      <td>English</td>\n",
       "      <td>shakespeare</td>\n",
       "      <td>Hamlet.txt</td>\n",
       "      <td>28551</td>\n",
       "      <td>6776</td>\n",
       "    </tr>\n",
       "    <tr>\n",
       "      <th>3</th>\n",
       "      <td>English</td>\n",
       "      <td>shakespeare</td>\n",
       "      <td>Macbeth.txt</td>\n",
       "      <td>16874</td>\n",
       "      <td>4780</td>\n",
       "    </tr>\n",
       "    <tr>\n",
       "      <th>4</th>\n",
       "      <td>English</td>\n",
       "      <td>shakespeare</td>\n",
       "      <td>Othello.txt</td>\n",
       "      <td>26590</td>\n",
       "      <td>5898</td>\n",
       "    </tr>\n",
       "    <tr>\n",
       "      <th>5</th>\n",
       "      <td>English</td>\n",
       "      <td>shakespeare</td>\n",
       "      <td>Richard III.txt</td>\n",
       "      <td>48315</td>\n",
       "      <td>5449</td>\n",
       "    </tr>\n",
       "  </tbody>\n",
       "</table>\n",
       "</div>"
      ],
      "text/plain": [
       "  language       author                          title length unique\n",
       "1  English  shakespeare  A Midsummer Night's Dream.txt  16103   4345\n",
       "2  English  shakespeare                     Hamlet.txt  28551   6776\n",
       "3  English  shakespeare                    Macbeth.txt  16874   4780\n",
       "4  English  shakespeare                    Othello.txt  26590   5898\n",
       "5  English  shakespeare                Richard III.txt  48315   5449"
      ]
     },
     "execution_count": 52,
     "metadata": {},
     "output_type": "execute_result"
    }
   ],
   "source": [
    "stats.head()"
   ]
  },
  {
   "cell_type": "code",
   "execution_count": 46,
   "metadata": {},
   "outputs": [
    {
     "data": {
      "text/html": [
       "<div>\n",
       "<style scoped>\n",
       "    .dataframe tbody tr th:only-of-type {\n",
       "        vertical-align: middle;\n",
       "    }\n",
       "\n",
       "    .dataframe tbody tr th {\n",
       "        vertical-align: top;\n",
       "    }\n",
       "\n",
       "    .dataframe thead th {\n",
       "        text-align: right;\n",
       "    }\n",
       "</style>\n",
       "<table border=\"1\" class=\"dataframe\">\n",
       "  <thead>\n",
       "    <tr style=\"text-align: right;\">\n",
       "      <th></th>\n",
       "      <th>name</th>\n",
       "      <th>age</th>\n",
       "    </tr>\n",
       "  </thead>\n",
       "  <tbody>\n",
       "    <tr>\n",
       "      <th>1</th>\n",
       "      <td>James</td>\n",
       "      <td>32</td>\n",
       "    </tr>\n",
       "    <tr>\n",
       "      <th>2</th>\n",
       "      <td>Jess</td>\n",
       "      <td>22</td>\n",
       "    </tr>\n",
       "  </tbody>\n",
       "</table>\n",
       "</div>"
      ],
      "text/plain": [
       "    name age\n",
       "1  James  32\n",
       "2   Jess  22"
      ]
     },
     "execution_count": 46,
     "metadata": {},
     "output_type": "execute_result"
    }
   ],
   "source": [
    "\n",
    "\n",
    "table = pd.DataFrame(columns = (\"name\", \"age\"))\n",
    "table.loc[1] = \"James\", 32\n",
    "table.loc[2] = \"Jess\", 22\n",
    "table"
   ]
  },
  {
   "cell_type": "code",
   "execution_count": 54,
   "metadata": {},
   "outputs": [
    {
     "data": {
      "text/html": [
       "<div>\n",
       "<style scoped>\n",
       "    .dataframe tbody tr th:only-of-type {\n",
       "        vertical-align: middle;\n",
       "    }\n",
       "\n",
       "    .dataframe tbody tr th {\n",
       "        vertical-align: top;\n",
       "    }\n",
       "\n",
       "    .dataframe thead th {\n",
       "        text-align: right;\n",
       "    }\n",
       "</style>\n",
       "<table border=\"1\" class=\"dataframe\">\n",
       "  <thead>\n",
       "    <tr style=\"text-align: right;\">\n",
       "      <th></th>\n",
       "      <th>language</th>\n",
       "      <th>author</th>\n",
       "      <th>title</th>\n",
       "      <th>length</th>\n",
       "      <th>unique</th>\n",
       "    </tr>\n",
       "  </thead>\n",
       "  <tbody>\n",
       "    <tr>\n",
       "      <th>98</th>\n",
       "      <td>Portuguese</td>\n",
       "      <td>Queir┬ós</td>\n",
       "      <td>O crime do padre Amaro.txt</td>\n",
       "      <td>128630</td>\n",
       "      <td>29300</td>\n",
       "    </tr>\n",
       "    <tr>\n",
       "      <th>99</th>\n",
       "      <td>Portuguese</td>\n",
       "      <td>Queir┬ós</td>\n",
       "      <td>O Mandarim.txt</td>\n",
       "      <td>21440</td>\n",
       "      <td>7836</td>\n",
       "    </tr>\n",
       "    <tr>\n",
       "      <th>100</th>\n",
       "      <td>Portuguese</td>\n",
       "      <td>Queir┬ós</td>\n",
       "      <td>O Primo Bazilio.txt</td>\n",
       "      <td>107303</td>\n",
       "      <td>27644</td>\n",
       "    </tr>\n",
       "    <tr>\n",
       "      <th>101</th>\n",
       "      <td>Portuguese</td>\n",
       "      <td>Queir┬ós</td>\n",
       "      <td>Os Maias.txt</td>\n",
       "      <td>195771</td>\n",
       "      <td>40665</td>\n",
       "    </tr>\n",
       "    <tr>\n",
       "      <th>102</th>\n",
       "      <td>Portuguese</td>\n",
       "      <td>shakespeare</td>\n",
       "      <td>Hamlet.txt</td>\n",
       "      <td>30567</td>\n",
       "      <td>9700</td>\n",
       "    </tr>\n",
       "  </tbody>\n",
       "</table>\n",
       "</div>"
      ],
      "text/plain": [
       "       language       author                       title  length unique\n",
       "98   Portuguese     Queir┬ós  O crime do padre Amaro.txt  128630  29300\n",
       "99   Portuguese     Queir┬ós              O Mandarim.txt   21440   7836\n",
       "100  Portuguese     Queir┬ós         O Primo Bazilio.txt  107303  27644\n",
       "101  Portuguese     Queir┬ós                Os Maias.txt  195771  40665\n",
       "102  Portuguese  shakespeare                  Hamlet.txt   30567   9700"
      ]
     },
     "execution_count": 54,
     "metadata": {},
     "output_type": "execute_result"
    }
   ],
   "source": [
    "stats.tail()"
   ]
  },
  {
   "cell_type": "code",
   "execution_count": 62,
   "metadata": {},
   "outputs": [
    {
     "data": {
      "text/plain": [
       "list"
      ]
     },
     "execution_count": 62,
     "metadata": {},
     "output_type": "execute_result"
    }
   ],
   "source": [
    "type(os.listdir(book_dir))"
   ]
  },
  {
   "cell_type": "code",
   "execution_count": 64,
   "metadata": {},
   "outputs": [
    {
     "data": {
      "text/plain": [
       "[<matplotlib.lines.Line2D at 0x1da23b53248>]"
      ]
     },
     "execution_count": 64,
     "metadata": {},
     "output_type": "execute_result"
    },
    {
     "data": {
      "image/png": "[encoded data removed]",
      "text/plain": [
       "<Figure size 432x288 with 1 Axes>"
      ]
     },
     "metadata": {
      "needs_background": "light"
     },
     "output_type": "display_data"
    }
   ],
   "source": [
    "import matplotlib.pyplot as plt\n",
    "plt.plot(stats.length, stats.unique, \"bo\")"
   ]
  },
  {
   "cell_type": "code",
   "execution_count": 65,
   "metadata": {},
   "outputs": [
    {
     "data": {
      "text/plain": [
       "[<matplotlib.lines.Line2D at 0x1da240ae248>]"
      ]
     },
     "execution_count": 65,
     "metadata": {},
     "output_type": "execute_result"
    },
    {
     "data": {
      "image/png": "[encoded data removed]",
      "text/plain": [
       "<Figure size 432x288 with 1 Axes>"
      ]
     },
     "metadata": {
      "needs_background": "light"
     },
     "output_type": "display_data"
    }
   ],
   "source": [
    "plt.loglog(stats.length, stats.unique, \"bo\")"
   ]
  },
  {
   "cell_type": "code",
   "execution_count": 66,
   "metadata": {},
   "outputs": [
    {
     "data": {
      "image/png": "[encoded data removed]",
      "text/plain": [
       "<Figure size 720x720 with 1 Axes>"
      ]
     },
     "metadata": {
      "needs_background": "light"
     },
     "output_type": "display_data"
    }
   ],
   "source": [
    "plt.figure(figsize =(10,10))\n",
    "subset = stats[stats.language == \"English\"]\n",
    "plt.loglog(subset.length, subset.unique, \"o\", label =\"English\", color=\"crimson\")\n",
    "\n",
    "subset = stats[stats.language == \"French\"]\n",
    "plt.loglog(subset.length, subset.unique, \"o\", label =\"French\", color=\"forestgreen\")\n",
    "\n",
    "subset = stats[stats.language == \"German\"]\n",
    "plt.loglog(subset.length, subset.unique, \"o\", label =\"German\", color=\"orange\")\n",
    "\n",
    "subset = stats[stats.language == \"Portuguese\"]\n",
    "plt.loglog(subset.length, subset.unique, \"o\", label =\"Portuguese\", color=\"blueviolet\")\n",
    "plt.legend()\n",
    "plt.xlabel(\"Book length\")\n",
    "plt.xlabel(\"Number of unique words\")\n",
    "plt.savefig(\"lang_plot.pdf\")"
   ]
  },
  {
   "cell_type": "code",
   "execution_count": 67,
   "metadata": {},
   "outputs": [
    {
     "data": {
      "text/plain": [
       "1       16103\n",
       "2       28551\n",
       "3       16874\n",
       "4       26590\n",
       "5       48315\n",
       "        ...  \n",
       "98     128630\n",
       "99      21440\n",
       "100    107303\n",
       "101    195771\n",
       "102     30567\n",
       "Name: length, Length: 102, dtype: object"
      ]
     },
     "execution_count": 67,
     "metadata": {},
     "output_type": "execute_result"
    }
   ],
   "source": [
    "stats[\"length\"]"
   ]
  },
  {
   "cell_type": "code",
   "execution_count": 69,
   "metadata": {},
   "outputs": [
    {
     "data": {
      "text/plain": [
       "1       16103\n",
       "2       28551\n",
       "3       16874\n",
       "4       26590\n",
       "5       48315\n",
       "        ...  \n",
       "98     128630\n",
       "99      21440\n",
       "100    107303\n",
       "101    195771\n",
       "102     30567\n",
       "Name: length, Length: 102, dtype: object"
      ]
     },
     "execution_count": 69,
     "metadata": {},
     "output_type": "execute_result"
    }
   ],
   "source": [
    "stats.length"
   ]
  },
  {
   "cell_type": "code",
   "execution_count": 73,
   "metadata": {},
   "outputs": [
    {
     "data": {
      "text/html": [
       "<div>\n",
       "<style scoped>\n",
       "    .dataframe tbody tr th:only-of-type {\n",
       "        vertical-align: middle;\n",
       "    }\n",
       "\n",
       "    .dataframe tbody tr th {\n",
       "        vertical-align: top;\n",
       "    }\n",
       "\n",
       "    .dataframe thead th {\n",
       "        text-align: right;\n",
       "    }\n",
       "</style>\n",
       "<table border=\"1\" class=\"dataframe\">\n",
       "  <thead>\n",
       "    <tr style=\"text-align: right;\">\n",
       "      <th></th>\n",
       "      <th>language</th>\n",
       "      <th>author</th>\n",
       "      <th>title</th>\n",
       "      <th>length</th>\n",
       "      <th>unique</th>\n",
       "    </tr>\n",
       "  </thead>\n",
       "  <tbody>\n",
       "    <tr>\n",
       "      <th>8</th>\n",
       "      <td>French</td>\n",
       "      <td>Chevalier</td>\n",
       "      <td>L'a╠èle de sable</td>\n",
       "      <td>73801</td>\n",
       "      <td>18989</td>\n",
       "    </tr>\n",
       "    <tr>\n",
       "      <th>9</th>\n",
       "      <td>French</td>\n",
       "      <td>Chevalier</td>\n",
       "      <td>L'enfer et le paradis de l'autre monde</td>\n",
       "      <td>40827</td>\n",
       "      <td>10831</td>\n",
       "    </tr>\n",
       "    <tr>\n",
       "      <th>10</th>\n",
       "      <td>French</td>\n",
       "      <td>Chevalier</td>\n",
       "      <td>La capitaine</td>\n",
       "      <td>46306</td>\n",
       "      <td>13083</td>\n",
       "    </tr>\n",
       "    <tr>\n",
       "      <th>11</th>\n",
       "      <td>French</td>\n",
       "      <td>Chevalier</td>\n",
       "      <td>La fille des indiens rouges</td>\n",
       "      <td>66621</td>\n",
       "      <td>17875</td>\n",
       "    </tr>\n",
       "    <tr>\n",
       "      <th>12</th>\n",
       "      <td>French</td>\n",
       "      <td>Chevalier</td>\n",
       "      <td>La fille du pirate</td>\n",
       "      <td>52519</td>\n",
       "      <td>14649</td>\n",
       "    </tr>\n",
       "    <tr>\n",
       "      <th>13</th>\n",
       "      <td>French</td>\n",
       "      <td>Chevalier</td>\n",
       "      <td>Le chasseur noir</td>\n",
       "      <td>51341</td>\n",
       "      <td>12945</td>\n",
       "    </tr>\n",
       "    <tr>\n",
       "      <th>14</th>\n",
       "      <td>French</td>\n",
       "      <td>Chevalier</td>\n",
       "      <td>Les derniers Iroquois</td>\n",
       "      <td>55565</td>\n",
       "      <td>15583</td>\n",
       "    </tr>\n",
       "    <tr>\n",
       "      <th>15</th>\n",
       "      <td>French</td>\n",
       "      <td>De maupassant</td>\n",
       "      <td>Boule de Suif</td>\n",
       "      <td>35905</td>\n",
       "      <td>10725</td>\n",
       "    </tr>\n",
       "    <tr>\n",
       "      <th>16</th>\n",
       "      <td>French</td>\n",
       "      <td>De maupassant</td>\n",
       "      <td>Claire de Lune</td>\n",
       "      <td>25975</td>\n",
       "      <td>8076</td>\n",
       "    </tr>\n",
       "    <tr>\n",
       "      <th>17</th>\n",
       "      <td>French</td>\n",
       "      <td>De maupassant</td>\n",
       "      <td>Contes de la Becasse</td>\n",
       "      <td>34723</td>\n",
       "      <td>10210</td>\n",
       "    </tr>\n",
       "    <tr>\n",
       "      <th>18</th>\n",
       "      <td>French</td>\n",
       "      <td>De maupassant</td>\n",
       "      <td>L'inutile beautC╠º</td>\n",
       "      <td>37840</td>\n",
       "      <td>10781</td>\n",
       "    </tr>\n",
       "    <tr>\n",
       "      <th>19</th>\n",
       "      <td>French</td>\n",
       "      <td>De maupassant</td>\n",
       "      <td>La Main Gauche</td>\n",
       "      <td>33481</td>\n",
       "      <td>9983</td>\n",
       "    </tr>\n",
       "    <tr>\n",
       "      <th>20</th>\n",
       "      <td>French</td>\n",
       "      <td>De maupassant</td>\n",
       "      <td>La Maison Tellier</td>\n",
       "      <td>43685</td>\n",
       "      <td>12305</td>\n",
       "    </tr>\n",
       "    <tr>\n",
       "      <th>21</th>\n",
       "      <td>French</td>\n",
       "      <td>De maupassant</td>\n",
       "      <td>La petite roque</td>\n",
       "      <td>40688</td>\n",
       "      <td>10890</td>\n",
       "    </tr>\n",
       "    <tr>\n",
       "      <th>22</th>\n",
       "      <td>French</td>\n",
       "      <td>De maupassant</td>\n",
       "      <td>Le Horla</td>\n",
       "      <td>41485</td>\n",
       "      <td>11091</td>\n",
       "    </tr>\n",
       "    <tr>\n",
       "      <th>23</th>\n",
       "      <td>French</td>\n",
       "      <td>De maupassant</td>\n",
       "      <td>┼Æuvres comple╠Çtes de Guy de Maupassant</td>\n",
       "      <td>54772</td>\n",
       "      <td>15028</td>\n",
       "    </tr>\n",
       "    <tr>\n",
       "      <th>24</th>\n",
       "      <td>French</td>\n",
       "      <td>Diderot</td>\n",
       "      <td>Ceci n'est pas un conte</td>\n",
       "      <td>10938</td>\n",
       "      <td>3674</td>\n",
       "    </tr>\n",
       "    <tr>\n",
       "      <th>25</th>\n",
       "      <td>French</td>\n",
       "      <td>Diderot</td>\n",
       "      <td>Entretien d'un pa╠êre avec ses enfants</td>\n",
       "      <td>11125</td>\n",
       "      <td>3720</td>\n",
       "    </tr>\n",
       "    <tr>\n",
       "      <th>26</th>\n",
       "      <td>French</td>\n",
       "      <td>Diderot</td>\n",
       "      <td>L'oiseau blanc</td>\n",
       "      <td>21973</td>\n",
       "      <td>6337</td>\n",
       "    </tr>\n",
       "    <tr>\n",
       "      <th>27</th>\n",
       "      <td>French</td>\n",
       "      <td>Diderot</td>\n",
       "      <td>Les deux amis de Bourbonne</td>\n",
       "      <td>8510</td>\n",
       "      <td>2929</td>\n",
       "    </tr>\n",
       "    <tr>\n",
       "      <th>28</th>\n",
       "      <td>French</td>\n",
       "      <td>Diderot</td>\n",
       "      <td>Regrets sur ma vieille robe de chambre</td>\n",
       "      <td>4980</td>\n",
       "      <td>1876</td>\n",
       "    </tr>\n",
       "    <tr>\n",
       "      <th>29</th>\n",
       "      <td>French</td>\n",
       "      <td>Sand</td>\n",
       "      <td>cora</td>\n",
       "      <td>12370</td>\n",
       "      <td>4370</td>\n",
       "    </tr>\n",
       "    <tr>\n",
       "      <th>30</th>\n",
       "      <td>French</td>\n",
       "      <td>Sand</td>\n",
       "      <td>Jacques le fataliste et son maa╠ètre</td>\n",
       "      <td>85756</td>\n",
       "      <td>18744</td>\n",
       "    </tr>\n",
       "    <tr>\n",
       "      <th>31</th>\n",
       "      <td>French</td>\n",
       "      <td>Sand</td>\n",
       "      <td>L' Orco</td>\n",
       "      <td>8748</td>\n",
       "      <td>3162</td>\n",
       "    </tr>\n",
       "    <tr>\n",
       "      <th>32</th>\n",
       "      <td>French</td>\n",
       "      <td>Sand</td>\n",
       "      <td>La Coupe; Lupo Liverani; Le Toast; Garnier; Le...</td>\n",
       "      <td>47831</td>\n",
       "      <td>12540</td>\n",
       "    </tr>\n",
       "    <tr>\n",
       "      <th>33</th>\n",
       "      <td>French</td>\n",
       "      <td>Sand</td>\n",
       "      <td>La Marquise</td>\n",
       "      <td>14716</td>\n",
       "      <td>4786</td>\n",
       "    </tr>\n",
       "    <tr>\n",
       "      <th>34</th>\n",
       "      <td>French</td>\n",
       "      <td>Sand</td>\n",
       "      <td>Le Piccinino</td>\n",
       "      <td>151405</td>\n",
       "      <td>27435</td>\n",
       "    </tr>\n",
       "    <tr>\n",
       "      <th>35</th>\n",
       "      <td>French</td>\n",
       "      <td>Sand</td>\n",
       "      <td>Le poa╠éme de Myrza</td>\n",
       "      <td>12771</td>\n",
       "      <td>4348</td>\n",
       "    </tr>\n",
       "    <tr>\n",
       "      <th>36</th>\n",
       "      <td>French</td>\n",
       "      <td>Sand</td>\n",
       "      <td>Mattea</td>\n",
       "      <td>21089</td>\n",
       "      <td>6429</td>\n",
       "    </tr>\n",
       "    <tr>\n",
       "      <th>37</th>\n",
       "      <td>French</td>\n",
       "      <td>Sand</td>\n",
       "      <td>Metella</td>\n",
       "      <td>19600</td>\n",
       "      <td>5715</td>\n",
       "    </tr>\n",
       "    <tr>\n",
       "      <th>38</th>\n",
       "      <td>French</td>\n",
       "      <td>Sand</td>\n",
       "      <td>Oeuvres illustrC╠ºes de George Sand</td>\n",
       "      <td>23210</td>\n",
       "      <td>7503</td>\n",
       "    </tr>\n",
       "    <tr>\n",
       "      <th>39</th>\n",
       "      <td>French</td>\n",
       "      <td>Sand</td>\n",
       "      <td>Pauline</td>\n",
       "      <td>27486</td>\n",
       "      <td>7901</td>\n",
       "    </tr>\n",
       "  </tbody>\n",
       "</table>\n",
       "</div>"
      ],
      "text/plain": [
       "   language         author                                              title  \\\n",
       "8    French      Chevalier                                   L'a╠èle de sable   \n",
       "9    French      Chevalier             L'enfer et le paradis de l'autre monde   \n",
       "10   French      Chevalier                                       La capitaine   \n",
       "11   French      Chevalier                        La fille des indiens rouges   \n",
       "12   French      Chevalier                                 La fille du pirate   \n",
       "13   French      Chevalier                                   Le chasseur noir   \n",
       "14   French      Chevalier                              Les derniers Iroquois   \n",
       "15   French  De maupassant                                      Boule de Suif   \n",
       "16   French  De maupassant                                     Claire de Lune   \n",
       "17   French  De maupassant                               Contes de la Becasse   \n",
       "18   French  De maupassant                                 L'inutile beautC╠º   \n",
       "19   French  De maupassant                                     La Main Gauche   \n",
       "20   French  De maupassant                                  La Maison Tellier   \n",
       "21   French  De maupassant                                    La petite roque   \n",
       "22   French  De maupassant                                           Le Horla   \n",
       "23   French  De maupassant           ┼Æuvres comple╠Çtes de Guy de Maupassant   \n",
       "24   French        Diderot                            Ceci n'est pas un conte   \n",
       "25   French        Diderot             Entretien d'un pa╠êre avec ses enfants   \n",
       "26   French        Diderot                                     L'oiseau blanc   \n",
       "27   French        Diderot                         Les deux amis de Bourbonne   \n",
       "28   French        Diderot             Regrets sur ma vieille robe de chambre   \n",
       "29   French           Sand                                               cora   \n",
       "30   French           Sand               Jacques le fataliste et son maa╠ètre   \n",
       "31   French           Sand                                            L' Orco   \n",
       "32   French           Sand  La Coupe; Lupo Liverani; Le Toast; Garnier; Le...   \n",
       "33   French           Sand                                        La Marquise   \n",
       "34   French           Sand                                       Le Piccinino   \n",
       "35   French           Sand                                Le poa╠éme de Myrza   \n",
       "36   French           Sand                                             Mattea   \n",
       "37   French           Sand                                            Metella   \n",
       "38   French           Sand                Oeuvres illustrC╠ºes de George Sand   \n",
       "39   French           Sand                                            Pauline   \n",
       "\n",
       "    length unique  \n",
       "8    73801  18989  \n",
       "9    40827  10831  \n",
       "10   46306  13083  \n",
       "11   66621  17875  \n",
       "12   52519  14649  \n",
       "13   51341  12945  \n",
       "14   55565  15583  \n",
       "15   35905  10725  \n",
       "16   25975   8076  \n",
       "17   34723  10210  \n",
       "18   37840  10781  \n",
       "19   33481   9983  \n",
       "20   43685  12305  \n",
       "21   40688  10890  \n",
       "22   41485  11091  \n",
       "23   54772  15028  \n",
       "24   10938   3674  \n",
       "25   11125   3720  \n",
       "26   21973   6337  \n",
       "27    8510   2929  \n",
       "28    4980   1876  \n",
       "29   12370   4370  \n",
       "30   85756  18744  \n",
       "31    8748   3162  \n",
       "32   47831  12540  \n",
       "33   14716   4786  \n",
       "34  151405  27435  \n",
       "35   12771   4348  \n",
       "36   21089   6429  \n",
       "37   19600   5715  \n",
       "38   23210   7503  \n",
       "39   27486   7901  "
      ]
     },
     "execution_count": 73,
     "metadata": {},
     "output_type": "execute_result"
    }
   ],
   "source": [
    "stats[stats.language == \"French\"]"
   ]
  },
  {
   "cell_type": "code",
   "execution_count": null,
   "metadata": {},
   "outputs": [],
   "source": []
  },
  {
   "cell_type": "code",
   "execution_count": null,
   "metadata": {},
   "outputs": [],
   "source": []
  },
  {
   "cell_type": "code",
   "execution_count": null,
   "metadata": {},
   "outputs": [],
   "source": []
  },
  {
   "cell_type": "code",
   "execution_count": null,
   "metadata": {},
   "outputs": [],
   "source": []
  },
  {
   "cell_type": "code",
   "execution_count": null,
   "metadata": {},
   "outputs": [],
   "source": []
  }
 ],
 "metadata": {
  "kernelspec": {
   "display_name": "Python 3",
   "language": "python",
   "name": "python3"
  },
  "language_info": {
   "codemirror_mode": {
    "name": "ipython",
    "version": 3
   },
   "file_extension": ".py",
   "mimetype": "text/x-python",
   "name": "python",
   "nbconvert_exporter": "python",
   "pygments_lexer": "ipython3",
   "version": "3.7.6"
  }
 },
 "nbformat": 4,
 "nbformat_minor": 4
}
